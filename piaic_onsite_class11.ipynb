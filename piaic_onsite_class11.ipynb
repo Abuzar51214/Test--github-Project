{
  "nbformat": 4,
  "nbformat_minor": 0,
  "metadata": {
    "colab": {
      "provenance": [],
      "authorship_tag": "ABX9TyMrrlvM3XfNkeJSeM552ILb",
      "include_colab_link": true
    },
    "kernelspec": {
      "name": "python3",
      "display_name": "Python 3"
    },
    "language_info": {
      "name": "python"
    }
  },
  "cells": [
    {
      "cell_type": "markdown",
      "metadata": {
        "id": "view-in-github",
        "colab_type": "text"
      },
      "source": [
        "<a href=\"https://colab.research.google.com/github/Abuzar51214/Test--github-Project/blob/main/piaic_onsite_class11.ipynb\" target=\"_parent\"><img src=\"https://colab.research.google.com/assets/colab-badge.svg\" alt=\"Open In Colab\"/></a>"
      ]
    },
    {
      "cell_type": "markdown",
      "source": [
        "Conditional statement"
      ],
      "metadata": {
        "id": "cbvnUPeHRfsi"
      }
    },
    {
      "cell_type": "code",
      "source": [
        "#if logic\n",
        "if True:\n",
        "  print(\"pakistan zindabad\")"
      ],
      "metadata": {
        "colab": {
          "base_uri": "https://localhost:8080/"
        },
        "id": "r4CZ-AROSZMf",
        "outputId": "2e49bfae-c2bb-46d5-d4ee-4289558a0204"
      },
      "execution_count": 1,
      "outputs": [
        {
          "output_type": "stream",
          "name": "stdout",
          "text": [
            "pakistan zindabad\n"
          ]
        }
      ]
    },
    {
      "cell_type": "code",
      "source": [
        "if False:\n",
        "  print(\"pakistan zindabad\")"
      ],
      "metadata": {
        "id": "nBjx4vyxTk85"
      },
      "execution_count": 1,
      "outputs": []
    },
    {
      "cell_type": "code",
      "source": [
        "if True:\n",
        "  print(\"pakistan zindabad\") #true block\n",
        "else:\n",
        "  print(\"usa\")  #false block"
      ],
      "metadata": {
        "id": "Pm5nxYpiTk-i"
      },
      "execution_count": null,
      "outputs": []
    },
    {
      "cell_type": "code",
      "source": [
        "user:str=(input(\"enter user name:\"))\n",
        "password:str=(input(\"enter user password:\"))\n",
        "if user == \"admin\" and password == \"123\":\n",
        "  print(\"valid user\")\n",
        "else:\n",
        "  print(\"invalid user\")\n"
      ],
      "metadata": {
        "id": "TCYAX-iuUFu6"
      },
      "execution_count": null,
      "outputs": []
    },
    {
      "cell_type": "code",
      "source": [
        "grade:int=78\n",
        "if grade >= 90:\n",
        "  print(\"A+\")\n",
        "elif grade >= 80:\n",
        "  print(\"A\")\n",
        "elif grade >= 70:\n",
        "  print(\"B\")\n",
        "elif grade >= 60:\n",
        "  print(\"C\")\n",
        "elif grade >= 50:\n",
        "  print(\"D\")\n",
        "else:\n",
        "  print(\"fail\")"
      ],
      "metadata": {
        "id": "bj1q2aLiVeMc"
      },
      "execution_count": null,
      "outputs": []
    },
    {
      "cell_type": "code",
      "source": [
        "percentage:int=78\n",
        "if percentage>0:\n",
        "  print(\"fail\")\n",
        "elif percentage>=33:\n",
        "  print(\"E\")\n",
        "elif percentage>=40:\n",
        "  print(\"D\")\n",
        "elif percentage>=50:\n",
        "  print(\"C\")\n",
        "elif percentage>=60:\n",
        "  print(\"B\")\n",
        "elif percentage>=70:\n",
        "  print(\"A\")\n",
        "elif percentage>=80:\n",
        "  print(\"A+\")\n",
        "else:\n",
        "  print(\"invalid percentage\")"
      ],
      "metadata": {
        "colab": {
          "base_uri": "https://localhost:8080/"
        },
        "id": "mdg7sLtbXBED",
        "outputId": "83a657fa-4925-43ca-8730-c4aa956e4907"
      },
      "execution_count": 2,
      "outputs": [
        {
          "output_type": "stream",
          "name": "stdout",
          "text": [
            "fail\n"
          ]
        }
      ]
    },
    {
      "cell_type": "code",
      "source": [
        "percentage:int=78\n",
        "if percentage>0 and percentage <33:\n",
        "  print(\"fail\")\n",
        "elif percentage>=33 and percentage<40:\n",
        "  print(\"E\")\n",
        "elif percentage>=40 and percentage <50:\n",
        "  print(\"D\")\n",
        "elif percentage>=50 and percentage <60:\n",
        "  print(\"C\")\n",
        "elif percentage>=60 and percentage <70:\n",
        "  print(\"B\")\n",
        "elif percentage>=70 and percentage <80:\n",
        "  print(\"A\")\n",
        "elif percentage>=80:\n",
        "  print(\"A+\")"
      ],
      "metadata": {
        "colab": {
          "base_uri": "https://localhost:8080/"
        },
        "id": "Q_Sx3DdYgPcV",
        "outputId": "3dc2d88e-a362-4b7b-814a-978134bf9b8f"
      },
      "execution_count": 3,
      "outputs": [
        {
          "output_type": "stream",
          "name": "stdout",
          "text": [
            "A\n"
          ]
        }
      ]
    },
    {
      "cell_type": "code",
      "source": [
        "user_name:str=input(\"user/email/mobile\")\n",
        "password:int=input(\"enter password:\")\n",
        "if user_name==\"Abuzar\"or user_name ==\"abc@gmail.com\" or user_name==\"03133141820\" and password==\"51214\":\n",
        "  print(\"valid user\")\n",
        "else:\n",
        "  print(\"invalid user\")"
      ],
      "metadata": {
        "colab": {
          "base_uri": "https://localhost:8080/"
        },
        "id": "-soXzNAhZc2x",
        "outputId": "1f6ed3e9-ddd8-48ec-cbef-f8d5161befc2"
      },
      "execution_count": 6,
      "outputs": [
        {
          "output_type": "stream",
          "name": "stdout",
          "text": [
            "user/email/mobile03133141820\n",
            "enter password:51214\n",
            "valid user\n"
          ]
        }
      ]
    },
    {
      "cell_type": "markdown",
      "source": [
        "#comprehensive style\n",
        "\n",
        "true blocke if logic else false block\n"
      ],
      "metadata": {
        "id": "SempTeybgYLm"
      }
    },
    {
      "cell_type": "code",
      "source": [
        " print(\"pakistan\") if True else print(\"usa\")"
      ],
      "metadata": {
        "colab": {
          "base_uri": "https://localhost:8080/"
        },
        "id": "MTMSPDp2guj-",
        "outputId": "cfade343-7214-43b4-8fa9-fbe03a91e9aa"
      },
      "execution_count": 11,
      "outputs": [
        {
          "output_type": "stream",
          "name": "stdout",
          "text": [
            "pakistan\n"
          ]
        }
      ]
    },
    {
      "cell_type": "code",
      "source": [
        " print(\"pakistan\") if False else print(\"usa\")"
      ],
      "metadata": {
        "colab": {
          "base_uri": "https://localhost:8080/"
        },
        "id": "KBAxsAZIhEr_",
        "outputId": "cb88c9af-b3f3-4316-9dfc-a6c88e26471c"
      },
      "execution_count": 12,
      "outputs": [
        {
          "output_type": "stream",
          "name": "stdout",
          "text": [
            "usa\n"
          ]
        }
      ]
    },
    {
      "cell_type": "markdown",
      "source": [
        "#**LOOP in python**\n",
        "\n",
        "#control\n",
        "  *break\n",
        "\n",
        "  *continue\n",
        "\n",
        "  *pass\n",
        "\n",
        "#while\n",
        "\n",
        "  *counter\n",
        "  \n",
        "  *logic\n",
        "\n",
        "  *increment/decrement\n"
      ],
      "metadata": {
        "id": "OZJiViHmiKo7"
      }
    },
    {
      "cell_type": "code",
      "source": [
        "while True:\n",
        "  print(\"pakistan\")"
      ],
      "metadata": {
        "id": "4ojMbWa7iQwY"
      },
      "execution_count": 10,
      "outputs": []
    },
    {
      "cell_type": "code",
      "source": [
        "counter: int=0\n",
        "while counter <=10:\n",
        "  print(f\"pakistan,{counter}\")\n",
        "  counter +=1"
      ],
      "metadata": {
        "colab": {
          "base_uri": "https://localhost:8080/"
        },
        "id": "zilNOzEvi84J",
        "outputId": "0170d3e7-1b06-4afa-8bfc-2e8bb6af0c27"
      },
      "execution_count": 13,
      "outputs": [
        {
          "output_type": "stream",
          "name": "stdout",
          "text": [
            "pakistan,0\n",
            "pakistan,1\n",
            "pakistan,2\n",
            "pakistan,3\n",
            "pakistan,4\n",
            "pakistan,5\n",
            "pakistan,6\n",
            "pakistan,7\n",
            "pakistan,8\n",
            "pakistan,9\n",
            "pakistan,10\n"
          ]
        }
      ]
    },
    {
      "cell_type": "code",
      "source": [
        "counter: int=20\n",
        "while counter <=10:\n",
        "  print(f\"pakistan,{counter}\")\n",
        "  counter +=1\n",
        "else:\n",
        "  print(\"loop not working\")"
      ],
      "metadata": {
        "colab": {
          "base_uri": "https://localhost:8080/"
        },
        "id": "I5I6g57nkNjH",
        "outputId": "d65783aa-50ec-4e78-c94e-02bcd144fd93"
      },
      "execution_count": 14,
      "outputs": [
        {
          "output_type": "stream",
          "name": "stdout",
          "text": [
            "loop not working\n"
          ]
        }
      ]
    },
    {
      "cell_type": "code",
      "source": [
        "counter: int=1\n",
        "while counter <=10:\n",
        "  if counter ==5:\n",
        "    break\n",
        "  print(f\"pakistan,{counter}\")\n",
        "  counter +=1"
      ],
      "metadata": {
        "colab": {
          "base_uri": "https://localhost:8080/"
        },
        "id": "Nm_qd-1Kkj1j",
        "outputId": "6edd771c-491e-4399-a56f-615829eecb49"
      },
      "execution_count": 15,
      "outputs": [
        {
          "output_type": "stream",
          "name": "stdout",
          "text": [
            "pakistan,1\n",
            "pakistan,2\n",
            "pakistan,3\n",
            "pakistan,4\n"
          ]
        }
      ]
    },
    {
      "cell_type": "code",
      "source": [
        "counter:int=10\n",
        "while counter>=1:\n",
        "  print(counter)\n",
        "  counter -=1\n"
      ],
      "metadata": {
        "colab": {
          "base_uri": "https://localhost:8080/"
        },
        "id": "Jt876eUZk3Ru",
        "outputId": "7fb6c2df-2ac4-4a50-bd29-1f6f7d22f35a"
      },
      "execution_count": 16,
      "outputs": [
        {
          "output_type": "stream",
          "name": "stdout",
          "text": [
            "10\n",
            "9\n",
            "8\n",
            "7\n",
            "6\n",
            "5\n",
            "4\n",
            "3\n",
            "2\n",
            "1\n"
          ]
        }
      ]
    },
    {
      "cell_type": "code",
      "source": [
        "counter: int=1\n",
        "while counter <=10:\n",
        "  print(counter)\n",
        "  counter +=1"
      ],
      "metadata": {
        "colab": {
          "base_uri": "https://localhost:8080/"
        },
        "id": "KYWgHhTelr9j",
        "outputId": "cf0c8126-f045-495f-eefa-f50de9d73aa5"
      },
      "execution_count": 18,
      "outputs": [
        {
          "output_type": "stream",
          "name": "stdout",
          "text": [
            "1\n",
            "2\n",
            "3\n",
            "4\n",
            "5\n",
            "6\n",
            "7\n",
            "8\n",
            "9\n",
            "10\n"
          ]
        }
      ]
    },
    {
      "cell_type": "code",
      "source": [
        "counter: int=1\n",
        "while counter <=10:\n",
        "  print(counter)\n",
        "  if counter==5:\n",
        "    break\n",
        "  counter +=1"
      ],
      "metadata": {
        "id": "K5spPwnSl7vM"
      },
      "execution_count": null,
      "outputs": []
    },
    {
      "cell_type": "code",
      "source": [
        "counter: int=1\n",
        "while counter <=10:\n",
        "  counter+=1\n",
        "  if counter==5:\n",
        "    continue\n",
        "  print(counter)"
      ],
      "metadata": {
        "colab": {
          "base_uri": "https://localhost:8080/"
        },
        "id": "wy-PmRbWmn03",
        "outputId": "15183b71-c125-4502-84dc-4b4ecea2be67"
      },
      "execution_count": 23,
      "outputs": [
        {
          "output_type": "stream",
          "name": "stdout",
          "text": [
            "2\n",
            "3\n",
            "4\n",
            "6\n",
            "7\n",
            "8\n",
            "9\n",
            "10\n",
            "11\n"
          ]
        }
      ]
    },
    {
      "cell_type": "code",
      "source": [
        "name:list[str]=[\"abuzar\",\"manzar\",\"feroz\"]\n",
        "index:int=0\n",
        "while index<len(name):\n",
        "  print(name[index])\n",
        "  index+=1"
      ],
      "metadata": {
        "colab": {
          "base_uri": "https://localhost:8080/"
        },
        "id": "HoPCVucqnLyx",
        "outputId": "4533cb32-44ef-4208-f23e-424a8bfef2b0"
      },
      "execution_count": 24,
      "outputs": [
        {
          "output_type": "stream",
          "name": "stdout",
          "text": [
            "abuzar\n",
            "manzar\n",
            "feroz\n"
          ]
        }
      ]
    },
    {
      "cell_type": "code",
      "source": [
        "name:list[str]=[\"abuzar\",\"manzar\",\"feroz\"]\n",
        "for item in name:\n",
        "  print(item)"
      ],
      "metadata": {
        "colab": {
          "base_uri": "https://localhost:8080/"
        },
        "id": "h5TFvoKXoTHu",
        "outputId": "f1a221be-0bf7-4a30-d1b3-91f65c0ed984"
      },
      "execution_count": 25,
      "outputs": [
        {
          "output_type": "stream",
          "name": "stdout",
          "text": [
            "abuzar\n",
            "manzar\n",
            "feroz\n"
          ]
        }
      ]
    },
    {
      "cell_type": "code",
      "source": [
        "for i in range(1,11):\n",
        "  print(i)"
      ],
      "metadata": {
        "colab": {
          "base_uri": "https://localhost:8080/"
        },
        "id": "bAAKn9jJpICM",
        "outputId": "88dc621c-6b1c-4b56-82f7-3ad977218f79"
      },
      "execution_count": 26,
      "outputs": [
        {
          "output_type": "stream",
          "name": "stdout",
          "text": [
            "1\n",
            "2\n",
            "3\n",
            "4\n",
            "5\n",
            "6\n",
            "7\n",
            "8\n",
            "9\n",
            "10\n"
          ]
        }
      ]
    },
    {
      "cell_type": "code",
      "source": [
        "data_item={\n",
        "    \"name\":\"Abuzar\",\n",
        "    \"education\":\"AI\",\n",
        "    \"age\": 20\n",
        "    }\n",
        "\n",
        "\n"
      ],
      "metadata": {
        "id": "Sd_X-cDmpPO6"
      },
      "execution_count": 4,
      "outputs": []
    },
    {
      "cell_type": "code",
      "source": [
        "{k:v for v,k in data_item.items()}"
      ],
      "metadata": {
        "colab": {
          "base_uri": "https://localhost:8080/"
        },
        "id": "IleDkUUiqw7E",
        "outputId": "89a1e27b-a824-466d-81f5-e5998f04c7e0"
      },
      "execution_count": 6,
      "outputs": [
        {
          "output_type": "execute_result",
          "data": {
            "text/plain": [
              "{'Abuzar': 'name', 'AI': 'education', 20: 'age'}"
            ]
          },
          "metadata": {},
          "execution_count": 6
        }
      ]
    },
    {
      "cell_type": "markdown",
      "source": [
        "#zip"
      ],
      "metadata": {
        "id": "h32VVFENp9Ee"
      }
    },
    {
      "cell_type": "code",
      "source": [
        "name:list[str]=[\"a\",\"b\",\"c\"]\n",
        "number:list[int]=[1,2,3]\n",
        "my_data=zip(name,number)\n",
        "print(list(my_data))\n"
      ],
      "metadata": {
        "colab": {
          "base_uri": "https://localhost:8080/"
        },
        "id": "tYat1cD2p-9L",
        "outputId": "dba4f8ef-d91d-48c6-942f-c4dd92c5ebb1"
      },
      "execution_count": 32,
      "outputs": [
        {
          "output_type": "stream",
          "name": "stdout",
          "text": [
            "[('a', 1), ('b', 2), ('c', 3)]\n"
          ]
        }
      ]
    },
    {
      "cell_type": "code",
      "source": [
        "#unzip\n",
        "a,b=[1,2]\n",
        "print(a,b)"
      ],
      "metadata": {
        "colab": {
          "base_uri": "https://localhost:8080/"
        },
        "id": "geNlwRhhq0fZ",
        "outputId": "ed689d05-bc69-445b-f5e0-2df554ad7f90"
      },
      "execution_count": 30,
      "outputs": [
        {
          "output_type": "stream",
          "name": "stdout",
          "text": [
            "1 2\n"
          ]
        }
      ]
    },
    {
      "cell_type": "code",
      "source": [
        "[i for i in range(1,11)]"
      ],
      "metadata": {
        "colab": {
          "base_uri": "https://localhost:8080/"
        },
        "id": "sENcn-7RrH5J",
        "outputId": "6bfc2215-ad4b-4bba-abc4-426973bd495a"
      },
      "execution_count": 33,
      "outputs": [
        {
          "output_type": "execute_result",
          "data": {
            "text/plain": [
              "[1, 2, 3, 4, 5, 6, 7, 8, 9, 10]"
            ]
          },
          "metadata": {},
          "execution_count": 33
        }
      ]
    },
    {
      "cell_type": "code",
      "source": [
        "name=[\"abuzar\",\"manzar\",\"feroz\"]\n",
        "[f\"hello {i}\"for i in name]"
      ],
      "metadata": {
        "colab": {
          "base_uri": "https://localhost:8080/"
        },
        "id": "n4fUyQ1fsmVp",
        "outputId": "dea27a19-109b-4a78-91d9-faf37790c9cd"
      },
      "execution_count": 34,
      "outputs": [
        {
          "output_type": "execute_result",
          "data": {
            "text/plain": [
              "['hello abuzar', 'hello manzar', 'hello feroz']"
            ]
          },
          "metadata": {},
          "execution_count": 34
        }
      ]
    },
    {
      "cell_type": "code",
      "source": [
        "[loop body for item in lilteral]"
      ],
      "metadata": {
        "id": "YFKDYNgitBVz"
      },
      "execution_count": null,
      "outputs": []
    },
    {
      "cell_type": "markdown",
      "source": [
        "error handling"
      ],
      "metadata": {
        "id": "WnYkINpiuffL"
      }
    },
    {
      "cell_type": "code",
      "source": [
        "#logical error\n",
        "2+2==5"
      ],
      "metadata": {
        "colab": {
          "base_uri": "https://localhost:8080/"
        },
        "id": "PGcKl1Alui1J",
        "outputId": "01ae131c-d625-44d6-a2db-f641af42ca19"
      },
      "execution_count": 35,
      "outputs": [
        {
          "output_type": "execute_result",
          "data": {
            "text/plain": [
              "False"
            ]
          },
          "metadata": {},
          "execution_count": 35
        }
      ]
    },
    {
      "cell_type": "code",
      "source": [
        "# prompt: 2+2==5 what is issue of this code\n",
        "\n",
        "# The issue with the code `2 + 2 == 5` is that it's a logical error.\n",
        "# It's trying to compare the result of the mathematical expression `2 + 2` (which evaluates to 4) with 5.\n",
        "# The comparison is incorrect, as it will always result in a False value.\n",
        "#\n",
        "# The expression is attempting to determine if 2 + 2 equals 5.\n",
        "# This is logically incorrect and will always return a False value because 2 + 2 equals 4.\n"
      ],
      "metadata": {
        "id": "OrHAOKO9w1Cm"
      },
      "execution_count": null,
      "outputs": []
    },
    {
      "cell_type": "code",
      "source": [
        "print(\"start\")\n",
        "print(1/0)\n",
        "print(\"end\")\n",
        "#"
      ],
      "metadata": {
        "colab": {
          "base_uri": "https://localhost:8080/",
          "height": 220
        },
        "id": "eXIO3qQyw8z7",
        "outputId": "f73f19ee-0474-4b3b-9337-75125bb89b2f"
      },
      "execution_count": 36,
      "outputs": [
        {
          "output_type": "stream",
          "name": "stdout",
          "text": [
            "start\n"
          ]
        },
        {
          "output_type": "error",
          "ename": "ZeroDivisionError",
          "evalue": "division by zero",
          "traceback": [
            "\u001b[0;31m---------------------------------------------------------------------------\u001b[0m",
            "\u001b[0;31mZeroDivisionError\u001b[0m                         Traceback (most recent call last)",
            "\u001b[0;32m<ipython-input-36-f3a5c080a097>\u001b[0m in \u001b[0;36m<cell line: 2>\u001b[0;34m()\u001b[0m\n\u001b[1;32m      1\u001b[0m \u001b[0mprint\u001b[0m\u001b[0;34m(\u001b[0m\u001b[0;34m\"start\"\u001b[0m\u001b[0;34m)\u001b[0m\u001b[0;34m\u001b[0m\u001b[0;34m\u001b[0m\u001b[0m\n\u001b[0;32m----> 2\u001b[0;31m \u001b[0mprint\u001b[0m\u001b[0;34m(\u001b[0m\u001b[0;36m1\u001b[0m\u001b[0;34m/\u001b[0m\u001b[0;36m0\u001b[0m\u001b[0;34m)\u001b[0m\u001b[0;34m\u001b[0m\u001b[0;34m\u001b[0m\u001b[0m\n\u001b[0m\u001b[1;32m      3\u001b[0m \u001b[0mprint\u001b[0m\u001b[0;34m(\u001b[0m\u001b[0;34m\"end\"\u001b[0m\u001b[0;34m)\u001b[0m\u001b[0;34m\u001b[0m\u001b[0;34m\u001b[0m\u001b[0m\n\u001b[1;32m      4\u001b[0m \u001b[0;31m#\u001b[0m\u001b[0;34m\u001b[0m\u001b[0;34m\u001b[0m\u001b[0m\n",
            "\u001b[0;31mZeroDivisionError\u001b[0m: division by zero"
          ]
        }
      ]
    },
    {
      "cell_type": "code",
      "source": [
        "#types\n",
        "print(\"start\")\n",
        "\n",
        "name:list[str]=[\"a\",\"b\",\"c\"]\n",
        "print(name[3])\n",
        "print(\"end\")"
      ],
      "metadata": {
        "colab": {
          "base_uri": "https://localhost:8080/",
          "height": 220
        },
        "id": "mINLDsfmxf50",
        "outputId": "ff2be7c1-9253-4cc0-fe16-7f376056a782"
      },
      "execution_count": 37,
      "outputs": [
        {
          "output_type": "stream",
          "name": "stdout",
          "text": [
            "start\n"
          ]
        },
        {
          "output_type": "error",
          "ename": "IndexError",
          "evalue": "list index out of range",
          "traceback": [
            "\u001b[0;31m---------------------------------------------------------------------------\u001b[0m",
            "\u001b[0;31mIndexError\u001b[0m                                Traceback (most recent call last)",
            "\u001b[0;32m<ipython-input-37-35572707c1dc>\u001b[0m in \u001b[0;36m<cell line: 4>\u001b[0;34m()\u001b[0m\n\u001b[1;32m      2\u001b[0m \u001b[0;34m\u001b[0m\u001b[0m\n\u001b[1;32m      3\u001b[0m \u001b[0mname\u001b[0m\u001b[0;34m:\u001b[0m\u001b[0mlist\u001b[0m\u001b[0;34m[\u001b[0m\u001b[0mstr\u001b[0m\u001b[0;34m]\u001b[0m\u001b[0;34m=\u001b[0m\u001b[0;34m[\u001b[0m\u001b[0;34m\"a\"\u001b[0m\u001b[0;34m,\u001b[0m\u001b[0;34m\"b\"\u001b[0m\u001b[0;34m,\u001b[0m\u001b[0;34m\"c\"\u001b[0m\u001b[0;34m]\u001b[0m\u001b[0;34m\u001b[0m\u001b[0;34m\u001b[0m\u001b[0m\n\u001b[0;32m----> 4\u001b[0;31m \u001b[0mprint\u001b[0m\u001b[0;34m(\u001b[0m\u001b[0mname\u001b[0m\u001b[0;34m[\u001b[0m\u001b[0;36m3\u001b[0m\u001b[0;34m]\u001b[0m\u001b[0;34m)\u001b[0m\u001b[0;34m\u001b[0m\u001b[0;34m\u001b[0m\u001b[0m\n\u001b[0m\u001b[1;32m      5\u001b[0m \u001b[0mprint\u001b[0m\u001b[0;34m(\u001b[0m\u001b[0;34m\"end\"\u001b[0m\u001b[0;34m)\u001b[0m\u001b[0;34m\u001b[0m\u001b[0;34m\u001b[0m\u001b[0m\n",
            "\u001b[0;31mIndexError\u001b[0m: list index out of range"
          ]
        }
      ]
    },
    {
      "cell_type": "code",
      "source": [
        "print(\"start\")\n",
        "try:\n",
        "  print(1/0)\n",
        "except ZeroDivisionError:\n",
        "  print(\"you cant divide by zero\")\n",
        "print(\"end\")\n",
        "#"
      ],
      "metadata": {
        "colab": {
          "base_uri": "https://localhost:8080/"
        },
        "id": "4czspXplyr1e",
        "outputId": "c5ba14c6-eb3e-47a9-ba3f-70c3b017dc77"
      },
      "execution_count": 38,
      "outputs": [
        {
          "output_type": "stream",
          "name": "stdout",
          "text": [
            "start\n",
            "you cant divide by zero\n",
            "end\n"
          ]
        }
      ]
    },
    {
      "cell_type": "code",
      "source": [
        "name:list[str]=[\"a\",\"b\",\"c\"]\n",
        "try:\n",
        "  print(name[3])\n",
        "except IndexError:\n",
        "  print(\"index error\")\n",
        "#"
      ],
      "metadata": {
        "colab": {
          "base_uri": "https://localhost:8080/"
        },
        "id": "hydqogWSzsCh",
        "outputId": "eedfab23-e030-447f-d444-939609b95cc8"
      },
      "execution_count": 12,
      "outputs": [
        {
          "output_type": "stream",
          "name": "stdout",
          "text": [
            "index error\n"
          ]
        }
      ]
    },
    {
      "cell_type": "code",
      "source": [
        "try:\n",
        "  print(1/0)\n",
        "  name:list[str]=[\"a\",\"b\",\"c\"]\n",
        "  print(name[3])\n",
        "except ZeroDivisionError:\n",
        "  print(\"you cant divide by zero\")\n",
        "except IndexError:\n",
        "  print(\"index error\")"
      ],
      "metadata": {
        "colab": {
          "base_uri": "https://localhost:8080/"
        },
        "id": "-VnSFqyn0JpY",
        "outputId": "e32a3ffa-8529-4eb7-b8bb-28e564ef77eb"
      },
      "execution_count": 40,
      "outputs": [
        {
          "output_type": "stream",
          "name": "stdout",
          "text": [
            "you cant divide by zero\n"
          ]
        }
      ]
    },
    {
      "cell_type": "code",
      "source": [
        "try:\n",
        "  print(10/0)\n",
        "\n",
        "except ZeroDivisionError:\n",
        "    print(\"tawa zero sa divide natha kary sagho\")\n",
        "try:\n",
        "   name:list=[\"baba\",\"feroz\",\"manzar\"]\n",
        "   print(name[3])\n",
        "except IndexError:\n",
        "    print(\"index error\")\n"
      ],
      "metadata": {
        "colab": {
          "base_uri": "https://localhost:8080/"
        },
        "id": "TqS--AmK1C1S",
        "outputId": "266843d7-59c6-412b-e80b-4a4b6f2cbf30"
      },
      "execution_count": 21,
      "outputs": [
        {
          "output_type": "stream",
          "name": "stdout",
          "text": [
            "tawa zero sa divide natha kary sagho\n",
            "index error\n"
          ]
        }
      ]
    }
  ]
}